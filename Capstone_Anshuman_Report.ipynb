{
 "cells": [
  {
   "cell_type": "raw",
   "metadata": {},
   "source": [
    "Introduction/Business Problem\n",
    "\n",
    "\n",
    "As the cities become larger with growing urbanization, so does the road traffic. Road traffic comprises of different participants, from pedestrians and cyclists  to large vehicles. And it become very important to not only ensure smooth traffic flow but also road safety.  Improper traffic conditions can impede the economic development in city and make a city less competent and attractive than their peers for business.\n",
    "Road Safety requires in-depth understand and insights from the data to ensure that we learn from the historical errors. A data model based on the historical data, would be able to provide the insights model the severity of accidents based on multiple factors. This in turn would be able to provide help in putting place measures, signs, improvements etc. which would help to reduce accidents and improve road safety conditions. \n",
    "In the current situation, based on the Data available for Seattle (from SDOT Traffic Management Division) the goal is to develop a model which predicts Severity of the accident based on multiple factors. The model would help in testing and provide guidance bfore implementation of measures. \n"
   ]
  }
 ],
 "metadata": {
  "kernelspec": {
   "display_name": "Python",
   "language": "python",
   "name": "conda-env-python-py"
  },
  "language_info": {
   "codemirror_mode": {
    "name": "ipython",
    "version": 3
   },
   "file_extension": ".py",
   "mimetype": "text/x-python",
   "name": "python",
   "nbconvert_exporter": "python",
   "pygments_lexer": "ipython3",
   "version": "3.6.11"
  }
 },
 "nbformat": 4,
 "nbformat_minor": 4
}
