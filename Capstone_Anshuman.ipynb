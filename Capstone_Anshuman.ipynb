{
 "cells": [
  {
   "cell_type": "code",
   "execution_count": 1,
   "metadata": {},
   "outputs": [],
   "source": [
    "import pandas as pd\n",
    "import numpy as np\n",
    "import matplotlib.pyplot as plt\n",
    "import seaborn as sns\n",
    "%matplotlib inline "
   ]
  },
  {
   "cell_type": "code",
   "execution_count": 2,
   "metadata": {},
   "outputs": [
    {
     "name": "stdout",
     "output_type": "stream",
     "text": [
      "Hello Capstone Project Course!\n"
     ]
    }
   ],
   "source": [
    "print (\"Hello Capstone Project Course!\")"
   ]
  },
  {
   "cell_type": "code",
   "execution_count": 4,
   "metadata": {},
   "outputs": [
    {
     "name": "stdout",
     "output_type": "stream",
     "text": [
      "--2020-09-07 03:06:53--  https://s3.us.cloud-object-storage.appdomain.cloud/cf-courses-data/CognitiveClass/DP0701EN/version-2/Data-Collisions.csv\n",
      "Resolving s3.us.cloud-object-storage.appdomain.cloud (s3.us.cloud-object-storage.appdomain.cloud)... 67.228.254.196\n",
      "Connecting to s3.us.cloud-object-storage.appdomain.cloud (s3.us.cloud-object-storage.appdomain.cloud)|67.228.254.196|:443... connected.\n",
      "HTTP request sent, awaiting response... 200 OK\n",
      "Length: 73917638 (70M) [text/csv]\n",
      "Saving to: ‘Data-collisions.csv’\n",
      "\n",
      "Data-collisions.csv 100%[===================>]  70.49M  20.1MB/s    in 3.6s    \n",
      "\n",
      "2020-09-07 03:06:57 (19.3 MB/s) - ‘Data-collisions.csv’ saved [73917638/73917638]\n",
      "\n"
     ]
    }
   ],
   "source": [
    "# !wget -O Data-collisions.csv https://s3.us.cloud-object-storage.appdomain.cloud/cf-courses-data/CognitiveClass/DP0701EN/version-2/Data-Collisions.csv "
   ]
  },
  {
   "cell_type": "code",
   "execution_count": 3,
   "metadata": {},
   "outputs": [
    {
     "name": "stderr",
     "output_type": "stream",
     "text": [
      "/home/jupyterlab/conda/envs/python/lib/python3.6/site-packages/IPython/core/interactiveshell.py:3072: DtypeWarning: Columns (33) have mixed types.Specify dtype option on import or set low_memory=False.\n",
      "  interactivity=interactivity, compiler=compiler, result=result)\n"
     ]
    }
   ],
   "source": [
    "collision_df = pd.read_csv('Data-collisions.csv')"
   ]
  },
  {
   "cell_type": "code",
   "execution_count": 4,
   "metadata": {},
   "outputs": [],
   "source": [
    "collision_cdf=collision_df[['SEVERITYCODE','COLLISIONTYPE','PERSONCOUNT','PEDCOUNT','PEDCYLCOUNT','VEHCOUNT','INATTENTIONIND','UNDERINFL',\n",
    "                            'SDOT_COLCODE','JUNCTIONTYPE','LIGHTCOND','ROADCOND','WEATHER','HITPARKEDCAR','SPEEDING','OBJECTID','INTKEY','PEDROWNOTGRNT']]\n",
    "\n",
    "collision_cdf_T=collision_cdf.copy()\n",
    "\n",
    "#Convert Categories to Numbers\n",
    "collision_cdf_T[\"LIGHTCOND\"] = collision_cdf_T[\"LIGHTCOND\"].astype('category')\n",
    "collision_cdf_T[\"ROADCOND\"] = collision_cdf_T[\"ROADCOND\"].astype('category')\n",
    "collision_cdf_T[\"WEATHER\"] = collision_cdf_T[\"WEATHER\"].astype('category')\n",
    "collision_cdf_T[\"INATTENTIONIND\"] = collision_cdf_T[\"INATTENTIONIND\"].astype('category')\n",
    "collision_cdf_T[\"UNDERINFL\"] = collision_cdf_T[\"UNDERINFL\"].astype('category')\n",
    "collision_cdf_T[\"HITPARKEDCAR\"] = collision_cdf_T[\"HITPARKEDCAR\"].astype('category')\n",
    "collision_cdf_T[\"SPEEDING\"] = collision_cdf_T[\"SPEEDING\"].astype('category')\n",
    "collision_cdf_T[\"COLLISIONTYPE\"] = collision_cdf_T[\"COLLISIONTYPE\"].astype('category')\n",
    "collision_cdf_T[\"JUNCTIONTYPE\"] = collision_cdf_T[\"JUNCTIONTYPE\"].astype('category')\n",
    "collision_cdf_T[\"PEDROWNOTGRNT\"] = collision_cdf_T[\"PEDROWNOTGRNT\"].astype('category')\n",
    "\n",
    "collision_cdf_T[\"LIGHTCOND_N\"] = collision_cdf_T[\"LIGHTCOND\"].cat.codes\n",
    "collision_cdf_T[\"ROADCOND_N\"] = collision_cdf_T[\"ROADCOND\"].cat.codes\n",
    "collision_cdf_T[\"WEATHER_N\"] = collision_cdf_T[\"WEATHER\"].cat.codes\n",
    "collision_cdf_T[\"INATTENTIONIND_N\"] = collision_cdf_T[\"INATTENTIONIND\"].cat.codes\n",
    "collision_cdf_T[\"UNDERINFL_N\"] = collision_cdf_T[\"UNDERINFL\"].cat.codes\n",
    "collision_cdf_T[\"HITPARKEDCAR_N\"] = collision_cdf_T[\"HITPARKEDCAR\"].cat.codes\n",
    "collision_cdf_T[\"SPEEDING_N\"] = collision_cdf_T[\"SPEEDING\"].cat.codes\n",
    "collision_cdf_T[\"COLLISIONTYPE_N\"] = collision_cdf_T[\"COLLISIONTYPE\"].cat.codes\n",
    "collision_cdf_T[\"JUNCTIONTYPE_N\"] = collision_cdf_T[\"JUNCTIONTYPE\"].cat.codes\n",
    "collision_cdf_T[\"PEDROWNOTGRNT_N\"] = collision_cdf_T[\"PEDROWNOTGRNT\"].cat.codes\n",
    "\n",
    "#Drop ORiginal Field\n",
    "collision_cdf_T.drop(['INATTENTIONIND','LIGHTCOND','ROADCOND','WEATHER','UNDERINFL','SPEEDING','HITPARKEDCAR','COLLISIONTYPE','JUNCTIONTYPE','PEDROWNOTGRNT'], axis=1, inplace=True)\n",
    "\n",
    "#Normalize Data Field INTKEY and OBJECTID\n",
    "collision_cdf_T[\"INTKEY\"] = collision_cdf_T[\"INTKEY\"] / collision_cdf_T[\"INTKEY\"].max()\n",
    "collision_cdf_T['INTKEY'] = collision_cdf_T['INTKEY'].replace(np.nan, 0)\n",
    "collision_cdf_T[\"OBJECTID\"] = collision_cdf_T[\"OBJECTID\"] / collision_cdf_T[\"OBJECTID\"].max()\n",
    "collision_cdf_T['OBJECTID'] = collision_cdf_T['OBJECTID'].replace(np.nan, 0)\n",
    "\n",
    "#Normalize Data FieldSEVERITYCODE\n",
    "collision_cdf_T[\"SEVERITYCODE\"] = collision_cdf_T[\"SEVERITYCODE\"] -1"
   ]
  },
  {
   "cell_type": "code",
   "execution_count": 5,
   "metadata": {},
   "outputs": [],
   "source": [
    "#Divide the data into Train and Test DataSets\n",
    "msk = np.random.rand(len(collision_cdf_T)) < 0.8\n",
    "train = collision_cdf_T[msk]\n",
    "test = collision_cdf_T[~msk]"
   ]
  },
  {
   "cell_type": "code",
   "execution_count": 6,
   "metadata": {},
   "outputs": [
    {
     "name": "stdout",
     "output_type": "stream",
     "text": [
      "[ True  True  True  True  True  True  True  True  True  True  True  True\n",
      "  True  True  True  True  True]\n",
      "[1 1 1 1 1 1 1 1 1 1 1 1 1 1 1 1 1]\n"
     ]
    }
   ],
   "source": [
    "#Using Recursive Feature Elimination for selecting the features\n",
    "from sklearn.feature_selection import RFE\n",
    "from sklearn.linear_model import LogisticRegression\n",
    "\n",
    "Predictor_Matrix=['PERSONCOUNT','PEDCOUNT','PEDCYLCOUNT','VEHCOUNT','SDOT_COLCODE',\n",
    "                  'OBJECTID','INTKEY','LIGHTCOND_N','ROADCOND_N','WEATHER_N',\n",
    "                  'INATTENTIONIND_N','UNDERINFL_N','HITPARKEDCAR_N','SPEEDING_N',\n",
    "                  'COLLISIONTYPE_N','JUNCTIONTYPE_N','PEDROWNOTGRNT_N']\n",
    "                  \n",
    "\n",
    "train_x = np.asanyarray(train[Predictor_Matrix])\n",
    "train_y = np.asanyarray(train['SEVERITYCODE'])\n",
    "\n",
    "rfe = RFE(LogisticRegression(random_state=None, solver='liblinear'), 20)\n",
    "rfe = rfe.fit(train_x, np.ravel(train_y,order='C'))\n",
    "print(rfe.support_)\n",
    "print(rfe.ranking_)"
   ]
  },
  {
   "cell_type": "code",
   "execution_count": 7,
   "metadata": {},
   "outputs": [
    {
     "name": "stdout",
     "output_type": "stream",
     "text": [
      "Optimization terminated successfully.\n",
      "         Current function value: 0.523185\n",
      "         Iterations 7\n",
      "                          Results: Logit\n",
      "==================================================================\n",
      "Model:              Logit            Pseudo R-squared: 0.143      \n",
      "Dependent Variable: y                AIC:              162967.5430\n",
      "Date:               2020-09-07 18:09 BIC:              163136.7911\n",
      "No. Observations:   155713           Log-Likelihood:   -81467.    \n",
      "Df Model:           16               LL-Null:          -95101.    \n",
      "Df Residuals:       155696           LLR p-value:      0.0000     \n",
      "Converged:          1.0000           Scale:            1.0000     \n",
      "No. Iterations:     7.0000                                        \n",
      "--------------------------------------------------------------------\n",
      "           Coef.    Std.Err.      z       P>|z|     [0.025    0.975]\n",
      "--------------------------------------------------------------------\n",
      "x1         0.2155     0.0054    40.1422   0.0000    0.2050    0.2261\n",
      "x2         2.8216     0.0487    57.9403   0.0000    2.7262    2.9171\n",
      "x3         2.3041     0.0517    44.5729   0.0000    2.2028    2.4054\n",
      "x4         0.2939     0.0124    23.7267   0.0000    0.2696    0.3182\n",
      "x5         0.0392     0.0012    32.4849   0.0000    0.0368    0.0415\n",
      "x6         0.0418     0.0314     1.3326   0.1827   -0.0197    0.1032\n",
      "x7         0.8206     0.1316     6.2367   0.0000    0.5627    1.0785\n",
      "x8        -0.0197     0.0037    -5.3443   0.0000   -0.0269   -0.0125\n",
      "x9         0.0329     0.0027    12.4005   0.0000    0.0277    0.0381\n",
      "x10       -0.1074     0.0038   -28.2291   0.0000   -0.1148   -0.0999\n",
      "x11        0.3520     0.0162    21.7656   0.0000    0.3203    0.3837\n",
      "x12        0.0558     0.0085     6.5284   0.0000    0.0391    0.0726\n",
      "x13       -1.5033     0.0564   -26.6397   0.0000   -1.6139   -1.3927\n",
      "x14        0.6069     0.0251    24.1589   0.0000    0.5577    0.6562\n",
      "x15       -0.0716     0.0024   -29.5107   0.0000   -0.0764   -0.0668\n",
      "x16       -0.1444     0.0052   -27.8123   0.0000   -0.1546   -0.1342\n",
      "x17        0.9064     0.0427    21.2361   0.0000    0.8228    0.9901\n",
      "==================================================================\n",
      "\n"
     ]
    }
   ],
   "source": [
    "import statsmodels.api as sm\n",
    "logit_model=sm.Logit(train_y,train_x)\n",
    "result=logit_model.fit()\n",
    "print(result.summary2())"
   ]
  },
  {
   "cell_type": "code",
   "execution_count": 12,
   "metadata": {},
   "outputs": [
    {
     "name": "stdout",
     "output_type": "stream",
     "text": [
      "Coefficients:  [[ 0.22809642  3.14902851  2.53388605  0.32139592  0.04252421  0.09961493\n",
      "   0.90720787 -0.01449907  0.03281563 -0.10574626  0.30349503  0.04092285\n",
      "  -1.50226352  0.49506366 -0.07339613 -0.14287007]]\n",
      "Intercept:  [-1.22858147]\n",
      "Classifications:  [0 1]\n",
      "Accuracy of logistic regression classifier on test set: 0.75\n",
      "Confusion Matrix\n",
      "[[26299   932]\n",
      " [ 8682  2880]]\n",
      "              precision    recall  f1-score   support\n",
      "\n",
      "           0       0.75      0.97      0.85     27231\n",
      "           1       0.76      0.25      0.37     11562\n",
      "\n",
      "   micro avg       0.75      0.75      0.75     38793\n",
      "   macro avg       0.75      0.61      0.61     38793\n",
      "weighted avg       0.75      0.75      0.71     38793\n",
      "\n"
     ]
    }
   ],
   "source": [
    "train_x = np.asanyarray(train[Predictor_Matrix])\n",
    "train_y = np.asanyarray(train['SEVERITYCODE'])\n",
    "\n",
    "logreg = LogisticRegression(random_state=None, solver='liblinear')\n",
    "logreg.fit(train_x, train_y)\n",
    "\n",
    "print ('Coefficients: ', logreg.coef_)\n",
    "print ('Intercept: ',logreg.intercept_)\n",
    "print ('Classifications: ', logreg.classes_)\n",
    "\n",
    "test_x = np.asanyarray(test[Predictor_Matrix])\n",
    "test_y = np.asanyarray(test[['SEVERITYCODE']])\n",
    "pred_y = logreg.predict(test_x)\n",
    "print('Accuracy of logistic regression classifier on test set: {:.2f}'.format(logreg.score(test_x, test_y)))\n",
    "\n",
    "from sklearn.metrics import confusion_matrix\n",
    "confusion_matrix = confusion_matrix(test_y, pred_y)\n",
    "print('Confusion Matrix')\n",
    "print(confusion_matrix)\n",
    "\n",
    "from sklearn.metrics import classification_report\n",
    "print(classification_report(test_y, pred_y))"
   ]
  },
  {
   "cell_type": "code",
   "execution_count": null,
   "metadata": {},
   "outputs": [],
   "source": []
  }
 ],
 "metadata": {
  "kernelspec": {
   "display_name": "Python",
   "language": "python",
   "name": "conda-env-python-py"
  },
  "language_info": {
   "codemirror_mode": {
    "name": "ipython",
    "version": 3
   },
   "file_extension": ".py",
   "mimetype": "text/x-python",
   "name": "python",
   "nbconvert_exporter": "python",
   "pygments_lexer": "ipython3",
   "version": "3.6.11"
  }
 },
 "nbformat": 4,
 "nbformat_minor": 4
}
